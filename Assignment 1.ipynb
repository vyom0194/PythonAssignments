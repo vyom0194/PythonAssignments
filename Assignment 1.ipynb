{
 "cells": [
  {
   "cell_type": "markdown",
   "id": "94cdcccf",
   "metadata": {},
   "source": [
    "1. In the below elements which of them are values or an expression? eg:- values can be\n",
    "integer or string and expressions will be mathematical operators. \\\n",
    "a) ```*``` => mathematical operator \\\n",
    "b) ```-87.8``` => Integer \\\n",
    "c) ```'hello'``` => string \\\n",
    "d) ```-``` => mathematical operator \\\n",
    "e) ```/``` => mathematical operator \\\n",
    "f) ```+``` => mathematical operator \\\n",
    "g) ```6``` => integer"
   ]
  },
  {
   "cell_type": "markdown",
   "id": "5073f7b8",
   "metadata": {},
   "source": [
    "2. What is the difference between string and variable? \\\n",
    "**string** is a data type and **variable** can store any data type.\n",
    "\n",
    "Example: \\\n",
    "```a=\"hello\"``` or ```b=true``` or ```c=9``` or ```d=[1,2,34,4]```, here a, b, c, d are variables storing data type's string, bool, integer and list respectively."
   ]
  },
  {
   "cell_type": "markdown",
   "id": "6ad75732",
   "metadata": {},
   "source": [
    "3. Describe three different data types. \\\n",
    "a) **string** \\\n",
    "b) **integer** \\\n",
    "c) **list**"
   ]
  },
  {
   "cell_type": "markdown",
   "id": "f18b4c1a",
   "metadata": {},
   "source": [
    "4. What is an expression made up of? What do all expressions do? \\\n",
    "   It is made up of operator and operands which procude new value. \\\n",
    "   Example: \\\n",
    "   ```x=5+3```, here 5 and 3 are operands and + is operator which outputs a new value x. ``` x=8```\n",
    "   \n"
   ]
  },
  {
   "cell_type": "markdown",
   "id": "80956b09",
   "metadata": {},
   "source": [
    "5. This assignment statements, like ```spam = 10```. What is the difference between an\n",
    "expression and a statement? \\\n",
    "Statement is used for creating variables and displaying values while expression outputs some value after being interpreted by Python interpretor. Expresssion is made up of operators and operands. \\\n",
    "Example: \\\n",
    "```spam = 10``` is statement \\\n",
    "```spam = 10 + 1``` is expression"
   ]
  },
  {
   "cell_type": "markdown",
   "id": "f5830305",
   "metadata": {},
   "source": [
    "6. After running the following code, what does the variable bacon contain? \\\n",
    "```bacon = 22``` \\\n",
    "```bacon + 1```\n",
    "\n",
    "```bacon =22```, because ```bacon+1``` is not assigned to original variable bacon"
   ]
  },
  {
   "cell_type": "code",
   "execution_count": 4,
   "id": "d3a06a60",
   "metadata": {},
   "outputs": [
    {
     "name": "stdout",
     "output_type": "stream",
     "text": [
      "23\n"
     ]
    }
   ],
   "source": [
    "bacon=22\n",
    "bacon+1\n",
    "print(bacon)"
   ]
  },
  {
   "cell_type": "code",
   "execution_count": 23,
   "id": "cfc2bd19",
   "metadata": {},
   "outputs": [
    {
     "name": "stdout",
     "output_type": "stream",
     "text": [
      "'spam'+'spamspam' =spamspamspam\n",
      "'spam'*3 = spamspamspam\n"
     ]
    }
   ],
   "source": [
    "##7. What should the values of the following two terms be? \\\n",
    "print(f\"'spam'+'spamspam' ={'spam'+'spamspam'}\")\n",
    "print(f\"'spam'*3 = {'spam'*3}\")"
   ]
  },
  {
   "cell_type": "markdown",
   "id": "a06c66f5",
   "metadata": {},
   "source": [
    "8. Why is eggs a valid variable name while 100 is invalid? \n",
    "\n",
    "A variable name in python must start either with a letter or with underscore. So here in eggs starts with letter 'e' so it is valid name while 100 starts with digit 1 which is not allowed, so it is a invalid variable name"
   ]
  },
  {
   "cell_type": "code",
   "execution_count": 20,
   "id": "d7c4386f",
   "metadata": {},
   "outputs": [
    {
     "name": "stdout",
     "output_type": "stream",
     "text": [
      "String using str() function=> 5\n",
      "Integer using int() function => 5\n",
      "Float using float() function=> 5.0\n"
     ]
    }
   ],
   "source": [
    "#9. What three functions can be used to get the integer, floating-point number, or string version of a value?\n",
    "x=5\n",
    "print(f\"String using str() function=> {str(x)}\")\n",
    "print(f\"Integer using int() function => {int(x)}\")\n",
    "print(f\"Float using float() function=> {float(5)}\")"
   ]
  },
  {
   "cell_type": "code",
   "execution_count": 21,
   "id": "c327bb8f",
   "metadata": {},
   "outputs": [
    {
     "name": "stdout",
     "output_type": "stream",
     "text": [
      "Fixed by converting 99 to string=> I have eaten99burritos\n"
     ]
    }
   ],
   "source": [
    "#10. Why does this expression cause an error? How can you fix it?\n",
    "# 'I have eaten' + 99 + 'burritos'\n",
    "print(f\"Fixed by converting 99 to string=> {'I have eaten' + str(99) + 'burritos'}\")"
   ]
  },
  {
   "cell_type": "code",
   "execution_count": null,
   "id": "6be9838b",
   "metadata": {},
   "outputs": [],
   "source": []
  }
 ],
 "metadata": {
  "kernelspec": {
   "display_name": "Python 3 (ipykernel)",
   "language": "python",
   "name": "python3"
  },
  "language_info": {
   "codemirror_mode": {
    "name": "ipython",
    "version": 3
   },
   "file_extension": ".py",
   "mimetype": "text/x-python",
   "name": "python",
   "nbconvert_exporter": "python",
   "pygments_lexer": "ipython3",
   "version": "3.10.9"
  }
 },
 "nbformat": 4,
 "nbformat_minor": 5
}
